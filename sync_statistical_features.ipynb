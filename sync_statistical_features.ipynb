{
  "nbformat": 4,
  "nbformat_minor": 0,
  "metadata": {
    "colab": {
      "provenance": [],
      "gpuType": "T4"
    },
    "kernelspec": {
      "name": "python3",
      "display_name": "Python 3"
    },
    "language_info": {
      "name": "python"
    },
    "accelerator": "GPU"
  },
  "cells": [
    {
      "cell_type": "code",
      "source": [],
      "metadata": {
        "id": "Q9WPc9bhelwL"
      },
      "execution_count": null,
      "outputs": []
    },
    {
      "cell_type": "code",
      "source": [
        "import os\n",
        "import json\n",
        "import numpy as np\n",
        "import pandas as pd\n",
        "from PIL import Image\n",
        "from pathlib import Path\n",
        "import matplotlib.pyplot as plt\n",
        "from sklearn.metrics.pairwise import cosine_similarity\n",
        "\n"
      ],
      "metadata": {
        "id": "C1xu_L2Ud1-e"
      },
      "execution_count": 1,
      "outputs": []
    },
    {
      "cell_type": "code",
      "source": [
        "# --- Setup paths ---\n",
        "DATA_DIR = Path(\"/content/drive/MyDrive\")\n",
        "CALIB_DIR = DATA_DIR / \"calibration\"\n",
        "GNSS_FILE = DATA_DIR / \"gnss.csv\"\n",
        "LIDAR_DIR = DATA_DIR / \"lidar\"\n",
        "XBAND_DIR = DATA_DIR / \"X_band_radar\"\n",
        "OUTPUT_DIR = DATA_DIR / \"synced_output\"\n",
        "OUTPUT_DIR.mkdir(parents=True, exist_ok=True)\n",
        "\n"
      ],
      "metadata": {
        "id": "xKcf2AN1d17i"
      },
      "execution_count": 2,
      "outputs": []
    },
    {
      "cell_type": "code",
      "source": [
        "# --- Load calibration matrices ---\n",
        "def load_matrix(path):\n",
        "    matrix = []\n",
        "    if not path.exists():\n",
        "        print(f\"⚠️ Calibration file not found: {path}, using identity matrix.\")\n",
        "        return np.eye(4)\n",
        "    with open(path, 'r') as f:\n",
        "        for line in f:\n",
        "            try:\n",
        "                row = [float(x) for x in line.strip().split()]\n",
        "                if len(row) == 4:\n",
        "                    matrix.append(row)\n",
        "            except ValueError:\n",
        "                continue\n",
        "    if len(matrix) == 3:\n",
        "        matrix.append([0, 0, 0, 1])\n",
        "    matrix_np = np.array(matrix)\n",
        "    if matrix_np.shape != (4, 4):\n",
        "        print(f\"⚠️ Unexpected calibration matrix shape: {matrix_np.shape}, using identity.\")\n",
        "        return np.eye(4)\n",
        "    return matrix_np\n",
        "\n",
        "T_base2lidar = load_matrix(CALIB_DIR / \"Base2lidar.txt\")\n",
        "T_base2xband = load_matrix(CALIB_DIR / \"Base2xband.txt\")\n",
        "\n"
      ],
      "metadata": {
        "colab": {
          "base_uri": "https://localhost:8080/"
        },
        "id": "x4egWxNkd14f",
        "outputId": "65669955-4e9a-420a-88ce-ffea245868fd"
      },
      "execution_count": 3,
      "outputs": [
        {
          "output_type": "stream",
          "name": "stdout",
          "text": [
            "⚠️ Unexpected calibration matrix shape: (2, 4), using identity.\n",
            "⚠️ Unexpected calibration matrix shape: (2, 4), using identity.\n"
          ]
        }
      ]
    },
    {
      "cell_type": "code",
      "source": [
        "# --- Index files ---\n",
        "def index_files_by_timestamp(folder, ext):\n",
        "    if not folder.exists():\n",
        "        return {}\n",
        "    return {int(f.stem): f for f in folder.glob(f\"*.{ext}\") if f.stem.isdigit()}\n",
        "\n",
        "lidar_ts = index_files_by_timestamp(LIDAR_DIR, \"bin\")\n",
        "xband_ts = index_files_by_timestamp(XBAND_DIR, \"png\")\n",
        "print(f\"🔎 Found {len(lidar_ts)} LiDAR files and {len(xband_ts)} X-Band files\")\n",
        "\n"
      ],
      "metadata": {
        "colab": {
          "base_uri": "https://localhost:8080/"
        },
        "id": "Y6scfcMAd11T",
        "outputId": "09bbef87-ee59-4e4e-8d53-3e4dcc3a6bb8"
      },
      "execution_count": 4,
      "outputs": [
        {
          "output_type": "stream",
          "name": "stdout",
          "text": [
            "🔎 Found 30 LiDAR files and 30 X-Band files\n"
          ]
        }
      ]
    },
    {
      "cell_type": "code",
      "source": [
        "# --- Loaders ---\n",
        "def load_lidar(file):\n",
        "    pts = np.fromfile(file, dtype=np.float32).reshape(-1, 4)[:, :3]\n",
        "    pts_h = np.hstack([pts, np.ones((pts.shape[0], 1))])\n",
        "    pts_trans = (T_base2lidar @ pts_h.T).T[:, :3]\n",
        "    return pts_trans\n",
        "\n",
        "def load_image(file):\n",
        "    return np.array(Image.open(file).convert(\"L\"))\n",
        "\n"
      ],
      "metadata": {
        "id": "n6OXw7k9d1yV"
      },
      "execution_count": 5,
      "outputs": []
    },
    {
      "cell_type": "code",
      "source": [
        "# --- Feature extractors ---\n",
        "def extract_lidar_features(pts):\n",
        "    try:\n",
        "        mean_xyz = np.mean(pts, axis=0)\n",
        "        std_xyz = np.std(pts, axis=0)\n",
        "        max_xyz = np.max(pts, axis=0)\n",
        "        min_xyz = np.min(pts, axis=0)\n",
        "        return np.concatenate([mean_xyz, std_xyz, max_xyz, min_xyz])\n",
        "    except Exception as e:\n",
        "        print(f\"⚠️ LiDAR feature error: {e}\")\n",
        "        return np.zeros(12)\n",
        "\n",
        "def extract_image_features(img):\n",
        "    try:\n",
        "        mean = img.mean()\n",
        "        std = img.std()\n",
        "        max_val = img.max()\n",
        "        min_val = img.min()\n",
        "        p10, p25, p50, p75, p90, p95 = np.percentile(img, [10, 25, 50, 75, 90, 95])\n",
        "        # Drop median (p50) or keep it for clarity\n",
        "        return np.array([mean, std, max_val, min_val, p10, p25, p50, p75, p90, p95, std / mean if mean != 0 else 0, max_val - min_val])\n",
        "    except Exception as e:\n",
        "        print(f\"⚠️ Image feature error: {e}\")\n",
        "        return np.zeros(12)\n",
        "\n",
        "\n",
        "\n"
      ],
      "metadata": {
        "id": "JRA7WqWOd1vQ"
      },
      "execution_count": 6,
      "outputs": []
    },
    {
      "cell_type": "code",
      "source": [
        "# --- GNSS loader ---\n",
        "if GNSS_FILE.exists():\n",
        "    gnss_df = pd.read_csv(GNSS_FILE)\n",
        "    if 'timestamp' in gnss_df.columns:\n",
        "        gnss_df['timestamp'] = pd.to_numeric(gnss_df['timestamp'], errors='coerce')\n",
        "        gnss_df = gnss_df.dropna(subset=['timestamp'])\n",
        "\n",
        "    def get_gnss_for_ts(ts):\n",
        "        if 'timestamp' not in gnss_df.columns:\n",
        "            return None\n",
        "        row = gnss_df.iloc[(gnss_df['timestamp'] - ts).abs().argsort()[:1]]\n",
        "        return row.to_dict('records')[0] if not row.empty else None\n",
        "else:\n",
        "    print(f\"⚠️ GNSS file not found: {GNSS_FILE}\")\n",
        "    def get_gnss_for_ts(ts): return None\n",
        "\n"
      ],
      "metadata": {
        "id": "N4KMN_F5d1sR"
      },
      "execution_count": 7,
      "outputs": []
    },
    {
      "cell_type": "code",
      "source": [
        "# --- Synchronization ---\n",
        "feature_pairs = []\n",
        "for ts_lidar, lidar_file in lidar_ts.items():\n",
        "    try:\n",
        "        lidar_data = load_lidar(lidar_file)\n",
        "        lidar_feat = extract_lidar_features(lidar_data)\n",
        "        for ts_x, x_file in xband_ts.items():\n",
        "            x_feat = extract_image_features(load_image(x_file))\n",
        "            sim = cosine_similarity([lidar_feat], [x_feat])[0][0]\n",
        "            feature_pairs.append((sim, ts_lidar, ts_x))\n",
        "    except Exception as e:\n",
        "        print(f\"⚠️ Feature extraction error: {e}\")\n",
        "\n",
        "feature_pairs.sort(reverse=True)\n",
        "synced_data, saved_pairs, summary = [], set(), []\n",
        "\n"
      ],
      "metadata": {
        "id": "3JXA7xGDd1pG"
      },
      "execution_count": 8,
      "outputs": []
    },
    {
      "cell_type": "code",
      "source": [
        "# --- Save matched frames ---\n",
        "for i, (sim, ts_lidar, ts_x) in enumerate(feature_pairs[:30]):\n",
        "    if (ts_lidar, ts_x) in saved_pairs:\n",
        "        continue\n",
        "    try:\n",
        "        lidar_data = load_lidar(lidar_ts[ts_lidar])\n",
        "        xband_img = load_image(xband_ts[ts_x])\n",
        "        gnss_info = get_gnss_for_ts(ts_lidar)\n",
        "\n",
        "        np.save(OUTPUT_DIR / f\"lidar_{i}.npy\", lidar_data)\n",
        "        Image.fromarray(xband_img).save(OUTPUT_DIR / f\"xband_{i}.png\")\n",
        "        with open(OUTPUT_DIR / f\"gnss_{i}.json\", 'w') as f:\n",
        "            json.dump(gnss_info, f)\n",
        "\n",
        "        synced_data.append({\n",
        "            \"timestamp\": ts_lidar,\n",
        "            \"lidar\": lidar_data,\n",
        "            \"xband\": xband_img,\n",
        "            \"gnss\": gnss_info,\n",
        "            \"similarity_score\": sim\n",
        "        })\n",
        "\n",
        "        summary.append({\n",
        "            \"index\": i,\n",
        "            \"timestamp\": ts_lidar,\n",
        "            \"lidar_shape\": lidar_data.shape,\n",
        "            \"xband_shape\": xband_img.shape,\n",
        "            \"similarity_score\": sim,\n",
        "            \"gnss_lat\": gnss_info.get(\"latitude\") if gnss_info else None,\n",
        "            \"gnss_lon\": gnss_info.get(\"longitude\") if gnss_info else None\n",
        "        })\n",
        "\n",
        "        saved_pairs.add((ts_lidar, ts_x))\n",
        "    except Exception as e:\n",
        "        print(f\"⚠️ Error saving frame {i}: {e}\")\n",
        "\n"
      ],
      "metadata": {
        "id": "afFgKYkPd1lw"
      },
      "execution_count": 9,
      "outputs": []
    },
    {
      "cell_type": "code",
      "source": [
        "# --- Save summary ---\n",
        "if summary:\n",
        "    summary_df = pd.DataFrame(summary)\n",
        "    summary_df.to_csv(OUTPUT_DIR / \"synced_summary.csv\", index=False)\n",
        "    print(f\"\\n✅ Synchronized {len(synced_data)} frames saved in: {OUTPUT_DIR}\")\n",
        "    print(\"\\n📊 Summary statistics:\")\n",
        "    print(summary_df.describe(include='all'))\n",
        "\n"
      ],
      "metadata": {
        "colab": {
          "base_uri": "https://localhost:8080/"
        },
        "id": "pfrc5sZ-ed6Y",
        "outputId": "1ad581b0-8cca-4438-dd95-b1a630ecd2f8"
      },
      "execution_count": 10,
      "outputs": [
        {
          "output_type": "stream",
          "name": "stdout",
          "text": [
            "\n",
            "✅ Synchronized 30 frames saved in: /content/drive/MyDrive/synced_output\n",
            "\n",
            "📊 Summary statistics:\n",
            "            index     timestamp lidar_shape   xband_shape  similarity_score  \\\n",
            "count   30.000000  3.000000e+01          30            30         30.000000   \n",
            "unique        NaN           NaN           3             1               NaN   \n",
            "top           NaN           NaN  (32137, 3)  (2048, 2048)               NaN   \n",
            "freq          NaN           NaN          12            30               NaN   \n",
            "mean    14.500000  1.724626e+18         NaN           NaN         -0.042007   \n",
            "std      8.803408  3.576589e+09         NaN           NaN          0.000024   \n",
            "min      0.000000  1.724626e+18         NaN           NaN         -0.042038   \n",
            "25%      7.250000  1.724626e+18         NaN           NaN         -0.042026   \n",
            "50%     14.500000  1.724626e+18         NaN           NaN         -0.042012   \n",
            "75%     21.750000  1.724626e+18         NaN           NaN         -0.041994   \n",
            "max     29.000000  1.724626e+18         NaN           NaN         -0.041957   \n",
            "\n",
            "            gnss_lat      gnss_lon  \n",
            "count   3.000000e+01  3.000000e+01  \n",
            "unique           NaN           NaN  \n",
            "top              NaN           NaN  \n",
            "freq             NaN           NaN  \n",
            "mean    1.246760e+00  1.038410e+02  \n",
            "std     6.775215e-16  4.336138e-14  \n",
            "min     1.246760e+00  1.038410e+02  \n",
            "25%     1.246760e+00  1.038410e+02  \n",
            "50%     1.246760e+00  1.038410e+02  \n",
            "75%     1.246760e+00  1.038410e+02  \n",
            "max     1.246760e+00  1.038410e+02  \n"
          ]
        }
      ]
    },
    {
      "cell_type": "code",
      "source": [
        "# --- Visualize first sample ---\n",
        "if synced_data:\n",
        "    frame = synced_data[0]\n",
        "    print(\"\\n📸 First synchronized sample:\")\n",
        "    print(pd.DataFrame([{\n",
        "        \"timestamp\": frame[\"timestamp\"],\n",
        "        \"lidar_shape\": frame[\"lidar\"].shape,\n",
        "        \"xband_shape\": frame[\"xband\"].shape,\n",
        "        \"similarity_score\": frame[\"similarity_score\"],\n",
        "        \"gnss_info\": frame[\"gnss\"]\n",
        "    }]))\n",
        "    plt.imshow(frame[\"xband\"], cmap=\"gray\")\n",
        "    plt.title(\"First Synced X-Band Radar Frame\")\n",
        "    plt.axis(\"off\")\n",
        "    plt.show()\n"
      ],
      "metadata": {
        "colab": {
          "base_uri": "https://localhost:8080/",
          "height": 553
        },
        "id": "tPDPEa1sed3O",
        "outputId": "77dcf421-3b33-4eee-cfe9-620d42562cc6"
      },
      "execution_count": 11,
      "outputs": [
        {
          "output_type": "stream",
          "name": "stdout",
          "text": [
            "\n",
            "📸 First synchronized sample:\n",
            "             timestamp lidar_shape   xband_shape  similarity_score  \\\n",
            "0  1724625898214689771  (32137, 3)  (2048, 2048)         -0.041957   \n",
            "\n",
            "                                           gnss_info  \n",
            "0  {'rosbag_file': 'S_HONESTMISTAKE_SEAD-CM-2200-...  \n"
          ]
        },
        {
          "output_type": "display_data",
          "data": {
            "text/plain": [
              "<Figure size 640x480 with 1 Axes>"
            ],
            "image/png": "[encoded data removed]"
          },
          "metadata": {}
        }
      ]
    },
    {
      "cell_type": "code",
      "source": [],
      "metadata": {
        "id": "fDT7puNLedzi"
      },
      "execution_count": 11,
      "outputs": []
    },
    {
      "cell_type": "code",
      "source": [],
      "metadata": {
        "id": "AF1gUwtJps3P"
      },
      "execution_count": 11,
      "outputs": []
    },
    {
      "cell_type": "code",
      "source": [],
      "metadata": {
        "id": "mG7bT1AKF79E"
      },
      "execution_count": 11,
      "outputs": []
    }
  ]
}