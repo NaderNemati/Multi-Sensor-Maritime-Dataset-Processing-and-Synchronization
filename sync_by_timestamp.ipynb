{
  "nbformat": 4,
  "nbformat_minor": 0,
  "metadata": {
    "colab": {
      "provenance": []
    },
    "kernelspec": {
      "name": "python3",
      "display_name": "Python 3"
    },
    "language_info": {
      "name": "python"
    }
  },
  "cells": [
    {
      "cell_type": "markdown",
      "source": [
        "# Multi-Sensor Synchronization for Maritime Perception\n",
        "\n",
        "## Project goal\n",
        "\n",
        "To synchronize multi-sensor data (LiDAR, W-Band Radar, X-Band Radar) based on GNSS timestamp and pose information, then use extrinsic calibration matrices to transform all sensor data into a common coordinate frame (e.g., GNSS/base frame) for fusion and analysis."
      ],
      "metadata": {
        "id": "bs5Mj0aLPqeq"
      }
    },
    {
      "cell_type": "code",
      "source": [
        "!pip install open3d -q"
      ],
      "metadata": {
        "colab": {
          "base_uri": "https://localhost:8080/"
        },
        "id": "6lAIZetOdZMx",
        "outputId": "e41f9904-9e79-4f26-a6b4-d81ab43ac766"
      },
      "execution_count": null,
      "outputs": [
        {
          "output_type": "stream",
          "name": "stdout",
          "text": [
            "\u001b[2K   \u001b[90m━━━━━━━━━━━━━━━━━━━━━━━━━━━━━━━━━━━━━━━━\u001b[0m \u001b[32m447.7/447.7 MB\u001b[0m \u001b[31m3.4 MB/s\u001b[0m eta \u001b[36m0:00:00\u001b[0m\n",
            "\u001b[2K   \u001b[90m━━━━━━━━━━━━━━━━━━━━━━━━━━━━━━━━━━━━━━━━\u001b[0m \u001b[32m7.9/7.9 MB\u001b[0m \u001b[31m57.2 MB/s\u001b[0m eta \u001b[36m0:00:00\u001b[0m\n",
            "\u001b[2K   \u001b[90m━━━━━━━━━━━━━━━━━━━━━━━━━━━━━━━━━━━━━━━━\u001b[0m \u001b[32m139.8/139.8 kB\u001b[0m \u001b[31m10.7 MB/s\u001b[0m eta \u001b[36m0:00:00\u001b[0m\n",
            "\u001b[2K   \u001b[90m━━━━━━━━━━━━━━━━━━━━━━━━━━━━━━━━━━━━━━━━\u001b[0m \u001b[32m2.2/2.2 MB\u001b[0m \u001b[31m7.7 MB/s\u001b[0m eta \u001b[36m0:00:00\u001b[0m\n",
            "\u001b[2K   \u001b[90m━━━━━━━━━━━━━━━━━━━━━━━━━━━━━━━━━━━━━━━━\u001b[0m \u001b[32m1.6/1.6 MB\u001b[0m \u001b[31m5.5 MB/s\u001b[0m eta \u001b[36m0:00:00\u001b[0m\n",
            "\u001b[?25h"
          ]
        }
      ]
    },
    {
      "cell_type": "code",
      "source": [
        "from google.colab import drive\n",
        "drive.mount('/content/drive')\n"
      ],
      "metadata": {
        "colab": {
          "base_uri": "https://localhost:8080/"
        },
        "id": "MmL3KzaCdate",
        "outputId": "7a5fc21d-3797-42e8-9d18-363b39747188"
      },
      "execution_count": null,
      "outputs": [
        {
          "output_type": "stream",
          "name": "stdout",
          "text": [
            "Drive already mounted at /content/drive; to attempt to forcibly remount, call drive.mount(\"/content/drive\", force_remount=True).\n"
          ]
        }
      ]
    },
    {
      "cell_type": "code",
      "source": [
        "import os\n",
        "import json\n",
        "import numpy as np\n",
        "import pandas as pd\n",
        "from PIL import Image\n",
        "from pathlib import Path\n",
        "import matplotlib.pyplot as plt"
      ],
      "metadata": {
        "id": "2JVlC74Yi_BL"
      },
      "execution_count": null,
      "outputs": []
    },
    {
      "cell_type": "code",
      "source": [
        "# --- Setup paths ---\n",
        "DATA_DIR = Path(\"/content/drive/MyDrive\")\n",
        "CALIB_DIR = DATA_DIR / \"calibration\"\n",
        "GNSS_FILE = DATA_DIR / \"gnss.csv\"\n",
        "\n",
        "LIDAR_DIR = DATA_DIR / \"lidar\"\n",
        "WBAND_DIR = DATA_DIR / \"W_band_radar\"\n",
        "XBAND_DIR = DATA_DIR / \"X_band_radar\"\n",
        "OUTPUT_DIR = DATA_DIR / \"synced_output\"\n",
        "OUTPUT_DIR.mkdir(parents=True, exist_ok=True)"
      ],
      "metadata": {
        "id": "Sje81V3wi--H"
      },
      "execution_count": null,
      "outputs": []
    },
    {
      "cell_type": "code",
      "source": [
        "# --- Helper: Load calibration matrices, skip label/header rows ---\n",
        "def load_matrix(path):\n",
        "    matrix = []\n",
        "    with open(path, 'r') as f:\n",
        "        for line in f:\n",
        "            parts = line.strip().split()\n",
        "            try:\n",
        "                row = [float(x) for x in parts]\n",
        "                if len(row) == 4:\n",
        "                    matrix.append(row)\n",
        "                else:\n",
        "                    print(f\"⚠️ Skipped line due to unexpected number of columns ({len(row)}): {line.strip()}\")\n",
        "            except ValueError:\n",
        "                print(f\"⚠️ Skipped non-numeric line: {line.strip()}\")\n",
        "                continue\n",
        "    return np.array(matrix)\n"
      ],
      "metadata": {
        "id": "ZDgVhlWRi-6s"
      },
      "execution_count": null,
      "outputs": []
    },
    {
      "cell_type": "code",
      "source": [
        "# --- Load transformations ---\n",
        "T_base2lidar = load_matrix(CALIB_DIR / \"Base2lidar.txt\")\n",
        "T_base2xband = load_matrix(CALIB_DIR / \"Base2xband.txt\")\n",
        "\n",
        "# --- Index files by timestamp ---\n",
        "def index_files_by_timestamp(folder, ext):\n",
        "    if not folder.exists():\n",
        "        return {}\n",
        "    return {int(f.stem): f for f in folder.glob(f\"*.{ext}\") if f.stem.isdigit()}\n",
        "\n",
        "lidar_ts = index_files_by_timestamp(LIDAR_DIR, \"bin\")\n",
        "xband_ts = index_files_by_timestamp(XBAND_DIR, \"png\")\n",
        "wband_ts = index_files_by_timestamp(WBAND_DIR, \"png\")\n",
        "\n",
        "print(\"✅ LiDAR timestamps:\", sorted(lidar_ts.keys()))\n",
        "print(\"✅ X-Band timestamps:\", sorted(xband_ts.keys()))\n",
        "print(\"✅ W-Band timestamps:\", sorted(wband_ts.keys()))"
      ],
      "metadata": {
        "colab": {
          "base_uri": "https://localhost:8080/"
        },
        "id": "BS0dQEt9GlA7",
        "outputId": "0a78d95a-f253-4fc7-826f-09b28520f370"
      },
      "execution_count": null,
      "outputs": [
        {
          "output_type": "stream",
          "name": "stdout",
          "text": [
            "⚠️ Skipped non-numeric line: Tr_gnss_to_lidar: 0 1 0 0\n",
            "⚠️ Skipped non-numeric line: Tr_gnss_to_Xband: 0 1 0 0\n",
            "✅ LiDAR timestamps: [1724625894214986733, 1724625895215083629, 1724625896214996143, 1724625897214523898, 1724625898214689771, 1724625899215104389, 1724625900214582820, 1724625901214440138, 1724625902214442464, 1724625903214564256, 1724625904214334628, 1724625905214665987, 1724625906214676569, 1724625907215025203, 1724625908215015260, 1724625909215616243, 1724625910215856565, 1724625911215887636, 1724625912214879989, 1724625913215255930, 1724625914214978437, 1724625915215265368, 1724625916215877261, 1724625917215420405, 1724625918215834758, 1724625919215939347, 1724625920215844439, 1724625921215385817, 1724625922215306315, 1724625923214700225]\n",
            "✅ X-Band timestamps: [1724625894223082375, 1724625895223246991, 1724625896223124316, 1724625897222549275, 1724625898222744536, 1724625899223239997, 1724625900222863379, 1724625901222553601, 1724625902222586363, 1724625903222734625, 1724625904222401724, 1724625905222795596, 1724625906223010255, 1724625907223600080, 1724625908223305198, 1724625909224162760, 1724625910224201077, 1724625911224637671, 1724625912223208449, 1724625913223610020, 1724625914223326666, 1724625915223804768, 1724625916224401283, 1724625917223895453, 1724625918224243534, 1724625919224377397, 1724625920224441725, 1724625921223947943, 1724625922224227602, 1724625923223253325]\n",
            "✅ W-Band timestamps: [1724625828549802723, 1724625828800424460, 1724625829050802158, 1724625829299984749, 1724625829550066299, 1724625829800085174, 1724625830051287519, 1724625830300809544, 1724625830550035456, 1724625830800784422, 1724625831052017975, 1724625831299996159, 1724625831548840608, 1724625831796263627, 1724625832048980824, 1724625832296217888, 1724625832551941959, 1724625832800402446, 1724625833049880588, 1724625833301134805, 1724625833548261854, 1724625833800361279, 1724625834052395698, 1724625834300096201, 1724625834551048970, 1724625834800990611, 1724625835051187222, 1724625835301042161, 1724625835550140791, 1724625835802504215]\n"
          ]
        }
      ]
    },
    {
      "cell_type": "code",
      "source": [
        "# --- Match timestamps (LiDAR & X-Band only) ---\n",
        "def find_closest(ts, candidates, tolerance_ns=1e7):  # 10 ms\n",
        "    if not candidates:\n",
        "        return None\n",
        "    closest = min(candidates, key=lambda x: abs(x - ts))\n",
        "    return closest if abs(closest - ts) <= tolerance_ns else None\n",
        "\n",
        "aligned_ts = []\n",
        "for ts_lidar in sorted(lidar_ts):\n",
        "    ts_x = find_closest(ts_lidar, xband_ts.keys(), tolerance_ns=1e7)\n",
        "    if ts_x is not None:\n",
        "        aligned_ts.append((ts_lidar, ts_x))\n",
        "\n",
        "print(f\"✅ Matched timestamps: {len(aligned_ts)}\")"
      ],
      "metadata": {
        "colab": {
          "base_uri": "https://localhost:8080/"
        },
        "id": "NFX2HaWGGk-F",
        "outputId": "33a2d2a8-9af0-4f8a-813c-fd53004d4ca6"
      },
      "execution_count": null,
      "outputs": [
        {
          "output_type": "stream",
          "name": "stdout",
          "text": [
            "✅ Matched timestamps: 30\n"
          ]
        }
      ]
    },
    {
      "cell_type": "code",
      "source": [
        "# --- Loaders ---\n",
        "def load_lidar(file):\n",
        "    pts = np.fromfile(file, dtype=np.float32).reshape(-1, 4)[:, :3]\n",
        "    pts_h = np.hstack([pts, np.ones((pts.shape[0], 1))])\n",
        "    pts_base = (T_base2lidar @ pts_h.T).T[:, :3]\n",
        "    return pts_base\n",
        "\n",
        "def load_image(file):\n",
        "    img = Image.open(file).convert(\"L\")\n",
        "    return np.array(img)\n"
      ],
      "metadata": {
        "id": "pcEF_HKEGk7K"
      },
      "execution_count": null,
      "outputs": []
    },
    {
      "cell_type": "code",
      "source": [
        "# --- Load GNSS ---\n",
        "gnss_df = pd.read_csv(GNSS_FILE)\n",
        "if 'timestamp' in gnss_df.columns:\n",
        "    gnss_df['timestamp'] = pd.to_numeric(gnss_df['timestamp'], errors='coerce')\n",
        "    gnss_df = gnss_df.dropna(subset=['timestamp'])\n",
        "\n",
        "def get_gnss_for_ts(ts):\n",
        "    if 'timestamp' not in gnss_df.columns:\n",
        "        return None\n",
        "    row = gnss_df.iloc[(gnss_df['timestamp'] - ts).abs().argsort()[:1]]\n",
        "    return row.to_dict('records')[0] if not row.empty else None"
      ],
      "metadata": {
        "id": "2Tbm4n2lGruS"
      },
      "execution_count": null,
      "outputs": []
    },
    {
      "cell_type": "code",
      "source": [
        "# --- Synchronize & Save ---\n",
        "synced_data = []\n",
        "summary_records = []\n",
        "\n",
        "for i, (ts_lidar, ts_x) in enumerate(aligned_ts):\n",
        "    try:\n",
        "        lidar_data = load_lidar(lidar_ts[ts_lidar])\n",
        "        xband_img = load_image(xband_ts[ts_x])\n",
        "        gnss_info = get_gnss_for_ts(ts_lidar)\n",
        "\n",
        "        # Save data\n",
        "        np.save(OUTPUT_DIR / f\"lidar_{i}.npy\", lidar_data)\n",
        "        Image.fromarray(xband_img).save(OUTPUT_DIR / f\"xband_{i}.png\")\n",
        "        with open(OUTPUT_DIR / f\"gnss_{i}.json\", 'w') as f:\n",
        "            json.dump(gnss_info, f)\n",
        "\n",
        "        synced_data.append({\n",
        "            \"timestamp\": ts_lidar,\n",
        "            \"lidar\": lidar_data,\n",
        "            \"xband\": xband_img,\n",
        "            \"gnss\": gnss_info\n",
        "        })\n",
        "\n",
        "        summary_records.append({\n",
        "            \"index\": i,\n",
        "            \"timestamp\": ts_lidar,\n",
        "            \"lidar_shape\": lidar_data.shape,\n",
        "            \"xband_shape\": xband_img.shape,\n",
        "            \"gnss_lat\": gnss_info.get(\"latitude\") if gnss_info else None,\n",
        "            \"gnss_lon\": gnss_info.get(\"longitude\") if gnss_info else None\n",
        "        })\n",
        "\n",
        "    except Exception as e:\n",
        "        print(f\"⚠️ Skipping frame {i} at lidar ts {ts_lidar} due to: {e}\")"
      ],
      "metadata": {
        "id": "NdwXGrLHGrrQ"
      },
      "execution_count": null,
      "outputs": []
    },
    {
      "cell_type": "code",
      "source": [
        "# --- Save Summary Metadata ---\n",
        "if summary_records:\n",
        "    pd.DataFrame(summary_records).to_csv(OUTPUT_DIR / \"synced_summary.csv\", index=False)\n",
        "    print(f\"\\n✅ Synchronized {len(synced_data)} frames saved in: {OUTPUT_DIR}\")\n",
        "else:\n",
        "    print(\"⚠️ No synchronized data saved.\")"
      ],
      "metadata": {
        "colab": {
          "base_uri": "https://localhost:8080/"
        },
        "id": "R_tjYzlzGroI",
        "outputId": "7ee3fbf6-1436-410a-b6ae-08d101e083ba"
      },
      "execution_count": null,
      "outputs": [
        {
          "output_type": "stream",
          "name": "stdout",
          "text": [
            "\n",
            "✅ Synchronized 30 frames saved in: /content/drive/MyDrive/synced_output\n"
          ]
        }
      ]
    },
    {
      "cell_type": "code",
      "source": [
        "# --- Show a Sample Frame ---\n",
        "if synced_data:\n",
        "    frame = synced_data[0]\n",
        "    print(\"\\n✅ Synchronized Frame Summary:\")\n",
        "    print(pd.DataFrame([{\n",
        "        \"timestamp\": frame[\"timestamp\"],\n",
        "        \"lidar_shape\": frame[\"lidar\"].shape,\n",
        "        \"xband_shape\": frame[\"xband\"].shape,\n",
        "        \"gnss_info\": frame[\"gnss\"]\n",
        "    }]))\n",
        "\n",
        "    plt.figure(figsize=(5, 4))\n",
        "    plt.title(\"X-Band Radar\")\n",
        "    plt.imshow(frame['xband'], cmap='gray')\n",
        "    plt.axis(\"off\")\n",
        "    plt.show()"
      ],
      "metadata": {
        "colab": {
          "base_uri": "https://localhost:8080/",
          "height": 492
        },
        "id": "n65EBk7tGrkf",
        "outputId": "700d5c0c-d568-47fa-f2d2-099216888f93"
      },
      "execution_count": null,
      "outputs": [
        {
          "output_type": "stream",
          "name": "stdout",
          "text": [
            "\n",
            "✅ Synchronized Frame Summary:\n",
            "             timestamp lidar_shape   xband_shape  \\\n",
            "0  1724625894214986733  (32061, 2)  (2048, 2048)   \n",
            "\n",
            "                                           gnss_info  \n",
            "0  {'rosbag_file': 'S_HONESTMISTAKE_SEAD-CM-2200-...  \n"
          ]
        },
        {
          "output_type": "display_data",
          "data": {
            "text/plain": [
              "<Figure size 500x400 with 1 Axes>"
            ],
            "image/png": "[encoded data removed]"
          },
          "metadata": {}
        }
      ]
    },
    {
      "cell_type": "code",
      "source": [],
      "metadata": {
        "id": "nFCZCce2Gk4M"
      },
      "execution_count": null,
      "outputs": []
    },
    {
      "cell_type": "code",
      "source": [],
      "metadata": {
        "id": "5whJ1f1MGk1F"
      },
      "execution_count": null,
      "outputs": []
    },
    {
      "cell_type": "code",
      "source": [],
      "metadata": {
        "id": "VRLYnur5i-2C"
      },
      "execution_count": null,
      "outputs": []
    },
    {
      "cell_type": "markdown",
      "source": [],
      "metadata": {
        "id": "x7ZuYU_VrPnZ"
      }
    },
    {
      "cell_type": "code",
      "source": [],
      "metadata": {
        "id": "HBtYLimhj1k_"
      },
      "execution_count": null,
      "outputs": []
    }
  ]
}